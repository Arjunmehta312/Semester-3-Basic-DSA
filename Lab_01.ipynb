{
 "cells": [
  {
   "cell_type": "markdown",
   "id": "26a0d392",
   "metadata": {},
   "source": [
    "# DSA LAB 01"
   ]
  },
  {
   "cell_type": "markdown",
   "id": "3c764099",
   "metadata": {},
   "source": [
    "### Name: Arjun Mehta\n",
    "### Batch K1\n",
    "### Roll Number: K036\n",
    "### Sem III B. Tech CSE Cybersecurity"
   ]
  },
  {
   "cell_type": "markdown",
   "id": "5c901d08",
   "metadata": {},
   "source": [
    "1. Write a program to find minimum element from an array."
   ]
  },
  {
   "cell_type": "code",
   "execution_count": 1,
   "id": "4a602f7f",
   "metadata": {},
   "outputs": [
    {
     "name": "stdin",
     "output_type": "stream",
     "text": [
      "Enter the number of elements=  5\n",
      "Enter your number=  1\n",
      "Enter your number=  2\n",
      "Enter your number=  3\n",
      "Enter your number=  4\n",
      "Enter your number=  5\n"
     ]
    },
    {
     "name": "stdout",
     "output_type": "stream",
     "text": [
      "1\n",
      "2\n",
      "3\n",
      "4\n",
      "5\n",
      "The maximum number in the array is 5\n",
      "The minimum number in the array is 1\n"
     ]
    }
   ],
   "source": [
    "def min_value(arr):\n",
    "    min_val=arr[0]\n",
    "    for element in arr[1:]:\n",
    "        if element<min_val:\n",
    "            min_val=element\n",
    "    return min_val\n",
    "\n",
    "def max_number(arr):\n",
    "    max=arr[0]\n",
    "    for i in range(len(arr)):\n",
    "        if(arr[i]>max):\n",
    "            max=arr[i]\n",
    "    return max\n",
    "\n",
    "size=int(input(\"Enter the number of elements= \"))\n",
    "new_array=[]\n",
    "for i in range(size):\n",
    "    a=int(input(\"Enter your number= \"))\n",
    "    new_array.append(a)\n",
    "    \n",
    "for i in range(0,len(new_array)):\n",
    "    print(new_array[i])\n",
    "\n",
    "print(\"The maximum number in the array is\",max_number(new_array))\n",
    "print(\"The minimum number in the array is\",min_value(new_array))"
   ]
  },
  {
   "cell_type": "markdown",
   "id": "dfed7fc8",
   "metadata": {},
   "source": [
    "2. Write a program to find mean of the array elements. Then find the count of the elements \n",
    "which are lesser, greater, and equal to the mean."
   ]
  },
  {
   "cell_type": "code",
   "execution_count": 2,
   "id": "52b221fc",
   "metadata": {},
   "outputs": [
    {
     "name": "stdin",
     "output_type": "stream",
     "text": [
      "Enter the number of elements=  5\n",
      "Enter element1=  1\n",
      "Enter element2=  2\n",
      "Enter element3=  3\n",
      "Enter element4=  4\n",
      "Enter element5=  5\n"
     ]
    },
    {
     "name": "stdout",
     "output_type": "stream",
     "text": [
      "The mean value of the array= 3.0\n",
      "Number of elements less than the mean= 2\n",
      "Number of elements greater than the mean= 2\n",
      "number of elements equal to the mean= 1\n"
     ]
    }
   ],
   "source": [
    "def calculation(arr):\n",
    "    total=sum(array)\n",
    "    mean=total/size\n",
    "\n",
    "    lesser=0\n",
    "    greater=0\n",
    "    equal=0\n",
    "    for element in array:\n",
    "        if element<mean:\n",
    "            lesser+=1\n",
    "        elif element>mean:\n",
    "            greater+=1\n",
    "        else:\n",
    "            equal+=1\n",
    "\n",
    "    print(f\"The mean value of the array=\",mean)\n",
    "    print(f\"Number of elements less than the mean=\",lesser)\n",
    "    print(f\"Number of elements greater than the mean=\",greater)\n",
    "    print(f\"number of elements equal to the mean=\",equal)\n",
    "\n",
    "size=int(input(\"Enter the number of elements= \"))\n",
    "array=[]\n",
    "for i in range(size):\n",
    "    num=float(input(f\"Enter element{i+1}= \"))\n",
    "    array.append(num)\n",
    "\n",
    "calculation(array)"
   ]
  },
  {
   "cell_type": "markdown",
   "id": "c6b51c93",
   "metadata": {},
   "source": [
    "3. Write a program to find count of zeros, even and odd elements from an array and display \n",
    "these numbers separately."
   ]
  },
  {
   "cell_type": "code",
   "execution_count": 3,
   "id": "e42ef91b",
   "metadata": {},
   "outputs": [
    {
     "name": "stdin",
     "output_type": "stream",
     "text": [
      "Enter the number of elements=  5\n",
      "Enter element 1=  1\n",
      "Enter element 2=  2\n",
      "Enter element 3=  3\n",
      "Enter element 4=  4\n",
      "Enter element 5=  5\n"
     ]
    },
    {
     "name": "stdout",
     "output_type": "stream",
     "text": [
      "Number of zeros= 0\n",
      "Number of even elements= 2\n",
      "Number of odd elements= 3\n"
     ]
    }
   ],
   "source": [
    "def counter(arr):\n",
    "    zero=0\n",
    "    even=0\n",
    "    odd=0\n",
    "\n",
    "    for elem in arr:\n",
    "        if elem==0:\n",
    "            zero+=1\n",
    "        elif elem%2==0:\n",
    "            even+=1\n",
    "        else:\n",
    "            odd+=1\n",
    "\n",
    "    print(\"Number of zeros=\",zero)\n",
    "    print(\"Number of even elements=\",even)\n",
    "    print(\"Number of odd elements=\",odd)\n",
    "\n",
    "size=int(input(\"Enter the number of elements= \"))\n",
    "array=[]\n",
    "for i in range(size):\n",
    "    num=float(input(f\"Enter element {i + 1}= \"))\n",
    "    array.append(num)\n",
    "    \n",
    "counter(array)"
   ]
  },
  {
   "cell_type": "markdown",
   "id": "4ec4e702",
   "metadata": {},
   "source": [
    "4. Write a program to reverse an array."
   ]
  },
  {
   "cell_type": "code",
   "execution_count": 4,
   "id": "a6ce644d",
   "metadata": {},
   "outputs": [
    {
     "name": "stdin",
     "output_type": "stream",
     "text": [
      "Enter the number of elements=  5\n",
      "Enter element 1=  1\n",
      "Enter element 2=  2\n",
      "Enter element 3=  3\n",
      "Enter element 4=  4\n",
      "Enter element 5=  5\n"
     ]
    },
    {
     "name": "stdout",
     "output_type": "stream",
     "text": [
      "[5, 4, 3, 2, 1]\n"
     ]
    }
   ],
   "source": [
    "def rev(arr):\n",
    "    rev_arr=arr[::-1]\n",
    "    print(rev_arr)\n",
    "    \n",
    "size=int(input(\"Enter the number of elements= \"))\n",
    "array=[]\n",
    "for i in range(size):\n",
    "    num=int(input(f\"Enter element {i + 1}= \"))\n",
    "    array.append(num)\n",
    "    \n",
    "rev(array)"
   ]
  },
  {
   "cell_type": "markdown",
   "id": "fb96dfc0",
   "metadata": {},
   "source": [
    "5. Write a program to insert an element in an array and then traverse the modified array"
   ]
  },
  {
   "cell_type": "code",
   "execution_count": 5,
   "id": "f65a1021",
   "metadata": {},
   "outputs": [
    {
     "name": "stdin",
     "output_type": "stream",
     "text": [
      "Enter the number of elements= 5\n",
      "Enter number= 1\n",
      "Enter number= 2\n",
      "Enter number= 3\n",
      "Enter number= 4\n",
      "Enter number= 5\n"
     ]
    },
    {
     "name": "stdout",
     "output_type": "stream",
     "text": [
      "1\n",
      "2\n",
      "3\n",
      "4\n",
      "5\n"
     ]
    },
    {
     "name": "stdin",
     "output_type": "stream",
     "text": [
      "Enter the position= 2\n",
      "Enter the element= 10\n"
     ]
    },
    {
     "name": "stdout",
     "output_type": "stream",
     "text": [
      "[1, 2, 10, 3, 4, 5]\n"
     ]
    }
   ],
   "source": [
    "def insert1(arr):\n",
    "    position=int(input(\"Enter the position=\"))\n",
    "    element=int(input(\"Enter the element=\"))\n",
    "    size=len(arr)\n",
    "    arr.append(0)\n",
    "    for i in range(size,position,-1):\n",
    "        arr[i]=arr[i-1]\n",
    "    arr[position]=element\n",
    "    print(arr)\n",
    "\n",
    "size_a=int(input(\"Enter the number of elements=\"))\n",
    "arr2=[]\n",
    "for _ in range(size_a):\n",
    "    a=int(input(\"Enter number=\"))\n",
    "    arr2.append(a)\n",
    "\n",
    "for i in range(0,len(arr2)):\n",
    "    print(arr2[i])\n",
    "\n",
    "insert1(arr2)"
   ]
  },
  {
   "cell_type": "markdown",
   "id": "ad24642c",
   "metadata": {},
   "source": [
    "6. Write a program to delete an element from an array (through an index of an element) and \n",
    "then traverse the modified array"
   ]
  },
  {
   "cell_type": "code",
   "execution_count": 6,
   "id": "140d5b4f-b269-4f07-b471-23d1efefb66a",
   "metadata": {},
   "outputs": [
    {
     "name": "stdin",
     "output_type": "stream",
     "text": [
      "Enter the number of elements= 5\n",
      "Enter a number= 1\n",
      "Enter a number= 2\n",
      "Enter a number= 3\n",
      "Enter a number= 4\n",
      "Enter a number= 5\n",
      "Enter the position u want to delete= 3\n"
     ]
    },
    {
     "name": "stdout",
     "output_type": "stream",
     "text": [
      "Updated array after deletion: [1, 2, 3, 5]\n"
     ]
    }
   ],
   "source": [
    "def delete(arr,position):\n",
    "    size=len(arr)\n",
    "    for i in range(position,size-1):\n",
    "        arr[i]=arr[i+1]\n",
    "    arr=arr[:-1]\n",
    "    return arr\n",
    "\n",
    "size1=int(input(\"Enter the number of elements=\"))\n",
    "\n",
    "new_array=[]\n",
    "for i in range(size1):\n",
    "    x=int(input(\"Enter a number=\"))\n",
    "    new_array.append(x)\n",
    "\n",
    "delete_position=int(input(\"Enter the position u want to delete=\"))\n",
    "\n",
    "print(\"Updated array after deletion:\",delete(new_array,delete_position))"
   ]
  }
 ],
 "metadata": {
  "kernelspec": {
   "display_name": "Python 3 (ipykernel)",
   "language": "python",
   "name": "python3"
  },
  "language_info": {
   "codemirror_mode": {
    "name": "ipython",
    "version": 3
   },
   "file_extension": ".py",
   "mimetype": "text/x-python",
   "name": "python",
   "nbconvert_exporter": "python",
   "pygments_lexer": "ipython3",
   "version": "3.11.4"
  }
 },
 "nbformat": 4,
 "nbformat_minor": 5
}
